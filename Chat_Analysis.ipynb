{
  "nbformat": 4,
  "nbformat_minor": 0,
  "metadata": {
    "colab": {
      "provenance": []
    },
    "kernelspec": {
      "name": "python3",
      "display_name": "Python 3"
    },
    "language_info": {
      "name": "python"
    }
  },
  "cells": [
    {
      "cell_type": "code",
      "execution_count": null,
      "metadata": {
        "id": "2ngGBjC54K-D"
      },
      "outputs": [],
      "source": [
        "!apt-get install openjdk-8-jdk-headless"
      ]
    },
    {
      "cell_type": "code",
      "source": [
        "!wget https://archive.apache.org/dist/spark/spark-3.2.1/spark-3.2.1-bin-hadoop2.7.tgz"
      ],
      "metadata": {
        "id": "HQKlNEQF4d_W"
      },
      "execution_count": null,
      "outputs": []
    },
    {
      "cell_type": "code",
      "source": [
        "!tar xf spark-3.2.1-bin-hadoop2.7.tgz"
      ],
      "metadata": {
        "id": "pnMxTCLc6ayk"
      },
      "execution_count": null,
      "outputs": []
    },
    {
      "cell_type": "code",
      "source": [
        "!pip install -q findspark"
      ],
      "metadata": {
        "id": "Hftitl374nh6"
      },
      "execution_count": null,
      "outputs": []
    },
    {
      "cell_type": "code",
      "source": [
        "import os\n",
        "os.environ[\"JAVA_HOME\"] = \"/usr/lib/jvm/java-8-openjdk-amd64\"\n",
        "os.environ[\"SPARK_HOME\"] = \"/content/spark-3.2.1-bin-hadoop2.7\""
      ],
      "metadata": {
        "id": "rmx-v0VD4uJQ"
      },
      "execution_count": null,
      "outputs": []
    },
    {
      "cell_type": "code",
      "source": [
        "import findspark\n",
        "findspark.init()\n",
        "findspark.find()"
      ],
      "metadata": {
        "colab": {
          "base_uri": "https://localhost:8080/",
          "height": 36
        },
        "id": "8-VCueKf4xjV",
        "outputId": "ce8b7f53-66bd-41d7-98ab-6377a8bbe818"
      },
      "execution_count": null,
      "outputs": [
        {
          "output_type": "execute_result",
          "data": {
            "text/plain": [
              "'/content/spark-3.2.1-bin-hadoop2.7'"
            ],
            "application/vnd.google.colaboratory.intrinsic+json": {
              "type": "string"
            }
          },
          "metadata": {},
          "execution_count": 22
        }
      ]
    },
    {
      "cell_type": "code",
      "source": [
        "from pyspark.sql import SparkSession\n",
        "\n",
        "spark = SparkSession.builder\\\n",
        "        .master(\"local\")\\\n",
        "        .appName(\"DataCleaningApp\")\\\n",
        "        .config('spark.ui.port', '4050')\\\n",
        "        .getOrCreate()\n",
        "spark"
      ],
      "metadata": {
        "colab": {
          "base_uri": "https://localhost:8080/",
          "height": 219
        },
        "id": "xGpgY1v-46xo",
        "outputId": "b2b54eba-8432-46ce-a7b8-633219d86fac"
      },
      "execution_count": null,
      "outputs": [
        {
          "output_type": "execute_result",
          "data": {
            "text/plain": [
              "<pyspark.sql.session.SparkSession at 0x7f7240296140>"
            ],
            "text/html": [
              "\n",
              "            <div>\n",
              "                <p><b>SparkSession - in-memory</b></p>\n",
              "                \n",
              "        <div>\n",
              "            <p><b>SparkContext</b></p>\n",
              "\n",
              "            <p><a href=\"http://8f26f85286ee:4050\">Spark UI</a></p>\n",
              "\n",
              "            <dl>\n",
              "              <dt>Version</dt>\n",
              "                <dd><code>v3.2.1</code></dd>\n",
              "              <dt>Master</dt>\n",
              "                <dd><code>local</code></dd>\n",
              "              <dt>AppName</dt>\n",
              "                <dd><code>DataCleaningApp</code></dd>\n",
              "            </dl>\n",
              "        </div>\n",
              "        \n",
              "            </div>\n",
              "        "
            ]
          },
          "metadata": {},
          "execution_count": 23
        }
      ]
    },
    {
      "cell_type": "code",
      "source": [
        "#loadining datasets\n",
        "from pyspark.sql.functions import isnan, when, count, col\n",
        "from pyspark.sql.functions import year, month, date_format ,hour , dayofweek\n",
        "import pandas as pd\n",
        "import matplotlib.pyplot as plt\n",
        "import pandas as pd\n",
        "import seaborn as sns\n",
        "import numpy as np\n",
        "\n",
        "mention_df = spark.read.format(\"csv\").option(\"header\", \"true\").load(\"/content/sample_data/chat_mention_team_chat.csv\")\n",
        "\n",
        "leave_df = spark.read.format(\"csv\").option(\"header\", \"true\").load(\"/content/sample_data/chat_leave_team_chat.csv\")\n",
        "\n",
        "join_df = spark.read.format(\"csv\").option(\"header\", \"true\").load(\"/content/sample_data/chat_join_team_chat.csv\")\n",
        "\n",
        "repond_df = spark.read.format(\"csv\").option(\"header\", \"true\").load(\"/content/sample_data/chat_respond_team_chat.csv\")\n"
      ],
      "metadata": {
        "id": "VV0LWe-j5EVA"
      },
      "execution_count": null,
      "outputs": []
    },
    {
      "cell_type": "markdown",
      "source": [
        "Join Chat"
      ],
      "metadata": {
        "id": "EjNxQQ6OOCP4"
      }
    },
    {
      "cell_type": "code",
      "source": [
        "# gettind data for graph of highest join\n",
        "from pyspark.sql.functions import count, desc\n",
        "\n",
        "top_10_JoinTeams = join_df.groupBy(\"teamchat_session_id\") \\\n",
        "                .agg(count(\"user_id\").alias(\"total_joins\")) \\\n",
        "                .orderBy(desc(\"total_joins\")) \\\n",
        "                .limit(10)\n",
        "\n",
        "top_10_JoinTeams.show()"
      ],
      "metadata": {
        "colab": {
          "base_uri": "https://localhost:8080/"
        },
        "id": "49doYUsE1o8m",
        "outputId": "ae07714b-4a0b-409e-d5c2-400caa67ff55"
      },
      "execution_count": null,
      "outputs": [
        {
          "output_type": "stream",
          "name": "stdout",
          "text": [
            "+-------------------+-----------+\n",
            "|teamchat_session_id|total_joins|\n",
            "+-------------------+-----------+\n",
            "|               6792|        100|\n",
            "|               6783|         91|\n",
            "|               6925|         87|\n",
            "|               6850|         86|\n",
            "|               6791|         81|\n",
            "|               6780|         76|\n",
            "|               6809|         72|\n",
            "|               6819|         70|\n",
            "|               7212|         67|\n",
            "|               6889|         67|\n",
            "+-------------------+-----------+\n",
            "\n"
          ]
        }
      ]
    },
    {
      "cell_type": "code",
      "source": [
        "from pyspark.sql.functions import count\n",
        "\n",
        "# Group the data by team_chat_session_id and have smallest number of occurrences\n",
        "team_counts = join_df.groupBy(\"teamchat_session_id\").agg(count(\"*\").alias(\"count\"))\n",
        "\n",
        "sorted_team_counts = team_counts.orderBy(\"count\")\n",
        "\n",
        "teams_count = sorted_team_counts.limit(10)\n",
        "\n",
        "teams_count.show()\n"
      ],
      "metadata": {
        "colab": {
          "base_uri": "https://localhost:8080/"
        },
        "id": "ZM67Ou00_2Of",
        "outputId": "2405108e-5081-4770-98c4-fe7a3335d68f"
      },
      "execution_count": null,
      "outputs": [
        {
          "output_type": "stream",
          "name": "stdout",
          "text": [
            "+-------------------+-----+\n",
            "|teamchat_session_id|count|\n",
            "+-------------------+-----+\n",
            "|              19403|    1|\n",
            "|              58852|    1|\n",
            "|              11602|    1|\n",
            "|              62531|    1|\n",
            "|              53235|    1|\n",
            "|              33007|    2|\n",
            "|              34969|    4|\n",
            "|              30251|    4|\n",
            "|              48730|    4|\n",
            "|              53495|    4|\n",
            "+-------------------+-----+\n",
            "\n"
          ]
        }
      ]
    },
    {
      "cell_type": "markdown",
      "source": [
        "LEAVE CHAT"
      ],
      "metadata": {
        "id": "Cy4eD13TN-n3"
      }
    },
    {
      "cell_type": "code",
      "source": [
        "# gettind data for graph of highest Leaves\n",
        "from pyspark.sql.functions import count, desc\n",
        "\n",
        "top_10_LeaveTeams = leave_df.groupBy(\"teamchat_session_id\") \\\n",
        "                .agg(count(\"user_id\").alias(\"total_Leaves\")) \\\n",
        "                .orderBy(desc(\"total_Leaves\")) \\\n",
        "                .limit(10)\n",
        "\n",
        "top_10_LeaveTeams.show()"
      ],
      "metadata": {
        "colab": {
          "base_uri": "https://localhost:8080/"
        },
        "id": "Xt0-J0tGOIO6",
        "outputId": "ceeae0bb-ae27-426d-b4d6-d84b06381bfa"
      },
      "execution_count": null,
      "outputs": [
        {
          "output_type": "stream",
          "name": "stdout",
          "text": [
            "+-------------------+------------+\n",
            "|teamchat_session_id|total_Leaves|\n",
            "+-------------------+------------+\n",
            "|               6792|          85|\n",
            "|               6783|          77|\n",
            "|               6850|          73|\n",
            "|               6925|          73|\n",
            "|               6791|          68|\n",
            "|               6780|          65|\n",
            "|               6809|          63|\n",
            "|               6789|          59|\n",
            "|               6819|          59|\n",
            "|               7212|          58|\n",
            "+-------------------+------------+\n",
            "\n"
          ]
        }
      ]
    },
    {
      "cell_type": "code",
      "source": [
        "from pyspark.sql.functions import count\n",
        "\n",
        "# Group the data by team_chat_session_id and have smallest number of occurrences\n",
        "team_counts = leave_df.groupBy(\"teamchat_session_id\").agg(count(\"*\").alias(\"count\"))\n",
        "\n",
        "sorted_team_counts = team_counts.orderBy(\"count\")\n",
        "\n",
        "teams_count = sorted_team_counts.limit(10)\n",
        "\n",
        "teams_count.show()\n"
      ],
      "metadata": {
        "colab": {
          "base_uri": "https://localhost:8080/"
        },
        "id": "6iD6U49vPmaG",
        "outputId": "c1220979-c691-4de0-bd70-94f7123ef153"
      },
      "execution_count": null,
      "outputs": [
        {
          "output_type": "stream",
          "name": "stdout",
          "text": [
            "+-------------------+-----+\n",
            "|teamchat_session_id|count|\n",
            "+-------------------+-----+\n",
            "|              26541|    2|\n",
            "|              48448|    2|\n",
            "|              30251|    3|\n",
            "|              22785|    3|\n",
            "|              48730|    3|\n",
            "|              34969|    3|\n",
            "|              53495|    3|\n",
            "|              26437|    3|\n",
            "|              49085|    3|\n",
            "|              40690|    4|\n",
            "+-------------------+-----+\n",
            "\n"
          ]
        }
      ]
    },
    {
      "cell_type": "markdown",
      "source": [
        "Mentioned "
      ],
      "metadata": {
        "id": "MXVCSbRXRuwi"
      }
    },
    {
      "cell_type": "code",
      "source": [
        "# gettind data for graph of highest mention\n",
        "from pyspark.sql.functions import count, desc\n",
        "\n",
        "top_10_MentinedUser= mention_df.groupBy(\"user_id\") \\\n",
        "                .agg(count(\"chat_item\").alias(\"total_mentined\")) \\\n",
        "                .orderBy(desc(\"total_mentined\")) \\\n",
        "                .limit(10)\n",
        "\n",
        "top_10_MentinedUser.show()"
      ],
      "metadata": {
        "colab": {
          "base_uri": "https://localhost:8080/"
        },
        "id": "TLu6-DD17Lsg",
        "outputId": "92bebf4e-0886-4573-88d0-d257100b67b5"
      },
      "execution_count": null,
      "outputs": [
        {
          "output_type": "stream",
          "name": "stdout",
          "text": [
            "+-------+--------------+\n",
            "|user_id|total_mentined|\n",
            "+-------+--------------+\n",
            "|    131|            53|\n",
            "|    621|            47|\n",
            "|   1204|            47|\n",
            "|   1428|            46|\n",
            "|   1506|            46|\n",
            "|   1482|            42|\n",
            "|    283|            42|\n",
            "|   1450|            42|\n",
            "|    674|            42|\n",
            "|   1035|            41|\n",
            "+-------+--------------+\n",
            "\n"
          ]
        }
      ]
    },
    {
      "cell_type": "markdown",
      "source": [
        "Neo4j Codes"
      ],
      "metadata": {
        "id": "0VtUYj8LPCdD"
      }
    },
    {
      "cell_type": "code",
      "source": [
        "------RESPOND TO-------------------------------------\n",
        "\n",
        "LOAD CSV WITH HEADERS FROM 'https://raw.githubusercontent.com/wasiqamn/Big-Data/47f5b9611684bd0201d669fd047064576b1a5e01/chat_respond_team_chat.csv' AS row\n",
        "MERGE (c1:ChatItem {id: row.chatid1})\n",
        "MERGE (c2:ChatItem {id: row.chatid2})\n",
        "CREATE (c2)-[:RESPONDS {timestamp: row.date}]->(c1)\n",
        "\n",
        "MATCH (c2:ChatItem)-[r:RESPONDS]->(c1:ChatItem)\n",
        "RETURN c2, r, c1\n",
        "\n",
        "\n",
        "MATCH path = (c2:ChatItem)-[:RESPONDS*1..]->(c1:ChatItem)\n",
        "WITH c1, c2, length(path) AS response_length\n",
        "ORDER BY response_length DESC\n",
        "LIMIT 1\n",
        "RETURN c1.id AS Chat1, c2.id AS Chat2, response_length AS Longest_Response;\n",
        "\n",
        "--------------------JOIN--------------------------\n",
        "LOAD CSV WITH HEADERS FROM 'https://raw.githubusercontent.com/wasiqamn/Big-Data/47f5b9611684bd0201d669fd047064576b1a5e01/chat_join_team_chat.csv' AS row\n",
        "MERGE (u:User {id: row.user_id})\n",
        "MERGE (t:TeamChatSession {id: row.teamchat_session_id})\n",
        "CREATE (u)-[:Joins {timestamp: row.date}]->(t)\n",
        "\n",
        "MATCH (u:User)-[:Joins]->(t:TeamChatSession)\n",
        "RETURN u, t\n",
        "----------------------LEAVE --------------------\n",
        "LOAD CSV WITH HEADERS FROM 'https://raw.githubusercontent.com/wasiqamn/Big-Data/47f5b9611684bd0201d669fd047064576b1a5e01/chat_leave_team_chat.csv' AS row\n",
        "MATCH (u:User {id: row.user_id})\n",
        "MATCH (t:TeamChatSession {id: row.teamchat_session_id})\n",
        "MERGE (u)-[:Leaves {timestamp: row.date}]->(t)\n",
        "\n",
        "\n",
        "MATCH (u:User)-[r:Leaves]->(t:TeamChatSession)\n",
        "RETURN u, t\n",
        "-----------------------------MENTIONED-------------\n",
        "LOAD CSV WITH HEADERS FROM 'https://raw.githubusercontent.com/wasiqamn/Big-Data/47f5b9611684bd0201d669fd047064576b1a5e01/chat_mention_team_chat.csv' AS row\n",
        "MATCH (c:ChatItem {id: row.chat_item})\n",
        "MATCH (u:User {id: row.user_id})\n",
        "CREATE (c)-[:Mentioned {timestamp:row.date}]->(u)\n",
        "\n",
        "\n",
        "# respond and mention\n",
        "match path = (u:User) - [:Mentioned] - (c:ChatItem) - [:RESPONDS] -() return path \n",
        "\n",
        "match path = (u:User {id: 131}) - [:Mentioned] - (c:ChatItem) - [:RESPONDS] -() return path \n",
        "\n",
        "# joins or leaves\n",
        "match path = (u:User) - [:Joins] - (t:TeamChatSession) - [:Leaves] -() return path "
      ],
      "metadata": {
        "id": "QcRwi-naPOSD"
      },
      "execution_count": null,
      "outputs": []
    }
  ]
}