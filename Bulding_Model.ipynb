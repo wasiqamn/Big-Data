{
  "nbformat": 4,
  "nbformat_minor": 0,
  "metadata": {
    "colab": {
      "provenance": []
    },
    "kernelspec": {
      "name": "python3",
      "display_name": "Python 3"
    },
    "language_info": {
      "name": "python"
    }
  },
  "cells": [
    {
      "cell_type": "code",
      "execution_count": null,
      "metadata": {
        "colab": {
          "base_uri": "https://localhost:8080/"
        },
        "id": "sXNEAEnUj2Lo",
        "outputId": "4c241220-c37f-4da6-a223-899f56d1f5bb"
      },
      "outputs": [
        {
          "output_type": "stream",
          "name": "stdout",
          "text": [
            "Reading package lists... Done\n",
            "Building dependency tree       \n",
            "Reading state information... Done\n",
            "The following additional packages will be installed:\n",
            "  libxtst6 openjdk-8-jre-headless\n",
            "Suggested packages:\n",
            "  openjdk-8-demo openjdk-8-source libnss-mdns fonts-dejavu-extra\n",
            "  fonts-ipafont-gothic fonts-ipafont-mincho fonts-wqy-microhei\n",
            "  fonts-wqy-zenhei fonts-indic\n",
            "The following NEW packages will be installed:\n",
            "  libxtst6 openjdk-8-jdk-headless openjdk-8-jre-headless\n",
            "0 upgraded, 3 newly installed, 0 to remove and 24 not upgraded.\n",
            "Need to get 36.5 MB/36.5 MB of archives.\n",
            "After this operation, 144 MB of additional disk space will be used.\n",
            "Get:1 http://archive.ubuntu.com/ubuntu focal-updates/universe amd64 openjdk-8-jre-headless amd64 8u362-ga-0ubuntu1~20.04.1 [28.2 MB]\n",
            "Get:2 http://archive.ubuntu.com/ubuntu focal-updates/universe amd64 openjdk-8-jdk-headless amd64 8u362-ga-0ubuntu1~20.04.1 [8,282 kB]\n",
            "Fetched 8,945 kB in 48s (187 kB/s)\n",
            "Selecting previously unselected package libxtst6:amd64.\n",
            "(Reading database ... 122519 files and directories currently installed.)\n",
            "Preparing to unpack .../libxtst6_2%3a1.2.3-1_amd64.deb ...\n",
            "Unpacking libxtst6:amd64 (2:1.2.3-1) ...\n",
            "Selecting previously unselected package openjdk-8-jre-headless:amd64.\n",
            "Preparing to unpack .../openjdk-8-jre-headless_8u362-ga-0ubuntu1~20.04.1_amd64.deb ...\n",
            "Unpacking openjdk-8-jre-headless:amd64 (8u362-ga-0ubuntu1~20.04.1) ...\n",
            "Selecting previously unselected package openjdk-8-jdk-headless:amd64.\n",
            "Preparing to unpack .../openjdk-8-jdk-headless_8u362-ga-0ubuntu1~20.04.1_amd64.deb ...\n",
            "Unpacking openjdk-8-jdk-headless:amd64 (8u362-ga-0ubuntu1~20.04.1) ...\n",
            "Setting up libxtst6:amd64 (2:1.2.3-1) ...\n",
            "Setting up openjdk-8-jre-headless:amd64 (8u362-ga-0ubuntu1~20.04.1) ...\n",
            "update-alternatives: using /usr/lib/jvm/java-8-openjdk-amd64/jre/bin/orbd to provide /usr/bin/orbd (orbd) in auto mode\n",
            "update-alternatives: using /usr/lib/jvm/java-8-openjdk-amd64/jre/bin/servertool to provide /usr/bin/servertool (servertool) in auto mode\n",
            "update-alternatives: using /usr/lib/jvm/java-8-openjdk-amd64/jre/bin/tnameserv to provide /usr/bin/tnameserv (tnameserv) in auto mode\n",
            "Setting up openjdk-8-jdk-headless:amd64 (8u362-ga-0ubuntu1~20.04.1) ...\n",
            "update-alternatives: using /usr/lib/jvm/java-8-openjdk-amd64/bin/idlj to provide /usr/bin/idlj (idlj) in auto mode\n",
            "update-alternatives: using /usr/lib/jvm/java-8-openjdk-amd64/bin/wsimport to provide /usr/bin/wsimport (wsimport) in auto mode\n",
            "update-alternatives: using /usr/lib/jvm/java-8-openjdk-amd64/bin/jsadebugd to provide /usr/bin/jsadebugd (jsadebugd) in auto mode\n",
            "update-alternatives: using /usr/lib/jvm/java-8-openjdk-amd64/bin/native2ascii to provide /usr/bin/native2ascii (native2ascii) in auto mode\n",
            "update-alternatives: using /usr/lib/jvm/java-8-openjdk-amd64/bin/javah to provide /usr/bin/javah (javah) in auto mode\n",
            "update-alternatives: using /usr/lib/jvm/java-8-openjdk-amd64/bin/hsdb to provide /usr/bin/hsdb (hsdb) in auto mode\n",
            "update-alternatives: using /usr/lib/jvm/java-8-openjdk-amd64/bin/clhsdb to provide /usr/bin/clhsdb (clhsdb) in auto mode\n",
            "update-alternatives: using /usr/lib/jvm/java-8-openjdk-amd64/bin/xjc to provide /usr/bin/xjc (xjc) in auto mode\n",
            "update-alternatives: using /usr/lib/jvm/java-8-openjdk-amd64/bin/schemagen to provide /usr/bin/schemagen (schemagen) in auto mode\n",
            "update-alternatives: using /usr/lib/jvm/java-8-openjdk-amd64/bin/extcheck to provide /usr/bin/extcheck (extcheck) in auto mode\n",
            "update-alternatives: using /usr/lib/jvm/java-8-openjdk-amd64/bin/jhat to provide /usr/bin/jhat (jhat) in auto mode\n",
            "update-alternatives: using /usr/lib/jvm/java-8-openjdk-amd64/bin/wsgen to provide /usr/bin/wsgen (wsgen) in auto mode\n",
            "Processing triggers for libc-bin (2.31-0ubuntu9.9) ...\n"
          ]
        }
      ],
      "source": [
        "!apt-get install openjdk-8-jdk-headless"
      ]
    },
    {
      "cell_type": "code",
      "source": [
        "!wget https://archive.apache.org/dist/spark/spark-3.2.1/spark-3.2.1-bin-hadoop2.7.tgz"
      ],
      "metadata": {
        "colab": {
          "base_uri": "https://localhost:8080/"
        },
        "id": "N443BmVIkXUZ",
        "outputId": "383a3502-ad6a-42f3-d5f6-839b48a24728"
      },
      "execution_count": null,
      "outputs": [
        {
          "output_type": "stream",
          "name": "stdout",
          "text": [
            "--2023-05-15 13:40:55--  https://archive.apache.org/dist/spark/spark-3.2.1/spark-3.2.1-bin-hadoop2.7.tgz\n",
            "Resolving archive.apache.org (archive.apache.org)... 138.201.131.134, 2a01:4f8:172:2ec5::2\n",
            "Connecting to archive.apache.org (archive.apache.org)|138.201.131.134|:443... connected.\n",
            "HTTP request sent, awaiting response... 200 OK\n",
            "Length: 272637746 (260M) [application/x-gzip]\n",
            "Saving to: ‘spark-3.2.1-bin-hadoop2.7.tgz’\n",
            "\n",
            "spark-3.2.1-bin-had 100%[===================>] 260.01M  2.19MB/s    in 3m 6s   \n",
            "\n",
            "2023-05-15 13:44:11 (1.40 MB/s) - ‘spark-3.2.1-bin-hadoop2.7.tgz’ saved [272637746/272637746]\n",
            "\n"
          ]
        }
      ]
    },
    {
      "cell_type": "code",
      "source": [
        "!tar xf spark-3.2.1-bin-hadoop2.7.tgz"
      ],
      "metadata": {
        "id": "JBvfjluXpdcD"
      },
      "execution_count": null,
      "outputs": []
    },
    {
      "cell_type": "code",
      "source": [
        "!pip install -q findspark"
      ],
      "metadata": {
        "id": "_Kcd7Ra-k08V"
      },
      "execution_count": null,
      "outputs": []
    },
    {
      "cell_type": "code",
      "source": [
        "import os\n",
        "os.environ[\"JAVA_HOME\"] = \"/usr/lib/jvm/java-8-openjdk-amd64\"\n",
        "os.environ[\"SPARK_HOME\"] = \"/content/spark-3.2.1-bin-hadoop2.7\"\n"
      ],
      "metadata": {
        "id": "R1FWG-MEmKbc"
      },
      "execution_count": null,
      "outputs": []
    },
    {
      "cell_type": "code",
      "source": [
        "import findspark\n",
        "findspark.init()\n",
        "findspark.find()"
      ],
      "metadata": {
        "id": "9-wA8CIOovmh"
      },
      "execution_count": null,
      "outputs": []
    },
    {
      "cell_type": "code",
      "source": [
        "from pyspark.sql import SparkSession\n",
        "\n",
        "spark = SparkSession.builder\\\n",
        "        .master(\"local\")\\\n",
        "        .appName(\"DataCleaningApp\")\\\n",
        "        .config('spark.ui.port', '4050')\\\n",
        "        .getOrCreate()"
      ],
      "metadata": {
        "id": "yx-flzbIu0FN"
      },
      "execution_count": null,
      "outputs": []
    },
    {
      "cell_type": "code",
      "source": [
        "spark"
      ],
      "metadata": {
        "colab": {
          "base_uri": "https://localhost:8080/",
          "height": 219
        },
        "id": "zEHz9s14vYxq",
        "outputId": "912de636-f35c-4122-aa84-fc4284ab40fb"
      },
      "execution_count": null,
      "outputs": [
        {
          "output_type": "execute_result",
          "data": {
            "text/plain": [
              "<pyspark.sql.session.SparkSession at 0x7f9e8a4bc880>"
            ],
            "text/html": [
              "\n",
              "            <div>\n",
              "                <p><b>SparkSession - in-memory</b></p>\n",
              "                \n",
              "        <div>\n",
              "            <p><b>SparkContext</b></p>\n",
              "\n",
              "            <p><a href=\"http://5bc4e6027e2c:4050\">Spark UI</a></p>\n",
              "\n",
              "            <dl>\n",
              "              <dt>Version</dt>\n",
              "                <dd><code>v3.2.1</code></dd>\n",
              "              <dt>Master</dt>\n",
              "                <dd><code>local</code></dd>\n",
              "              <dt>AppName</dt>\n",
              "                <dd><code>DataCleaningApp</code></dd>\n",
              "            </dl>\n",
              "        </div>\n",
              "        \n",
              "            </div>\n",
              "        "
            ]
          },
          "metadata": {},
          "execution_count": 9
        }
      ]
    },
    {
      "cell_type": "markdown",
      "source": [
        "Classification"
      ],
      "metadata": {
        "id": "ciqHdvQ0FnF1"
      }
    },
    {
      "cell_type": "code",
      "source": [
        "combined_df = spark.read.format(\"csv\").option(\"header\", \"true\").load(\"/content/sample_data/combined-data.csv\")\n",
        "\n",
        "combined_df.printSchema()"
      ],
      "metadata": {
        "id": "lfqXBFRAvr78",
        "colab": {
          "base_uri": "https://localhost:8080/"
        },
        "outputId": "e2bed4f4-7ffb-4769-a81f-91a7b51c4178"
      },
      "execution_count": null,
      "outputs": [
        {
          "output_type": "stream",
          "name": "stdout",
          "text": [
            "root\n",
            " |-- userId: string (nullable = true)\n",
            " |-- userSessionId: string (nullable = true)\n",
            " |-- teamLevel: string (nullable = true)\n",
            " |-- platformType: string (nullable = true)\n",
            " |-- count_gameclicks: string (nullable = true)\n",
            " |-- count_hits: string (nullable = true)\n",
            " |-- count_buyId: string (nullable = true)\n",
            " |-- avg_price: string (nullable = true)\n",
            "\n"
          ]
        }
      ]
    },
    {
      "cell_type": "code",
      "source": [
        "#drop rows with null values \n",
        "combined_df.dropna()"
      ],
      "metadata": {
        "id": "HH4c39hHbHt5"
      },
      "execution_count": null,
      "outputs": []
    },
    {
      "cell_type": "code",
      "source": [
        "import pandas as pd\n",
        "from pyspark.sql.functions import when , col ,count\n",
        "from pyspark.ml.feature import StringIndexer\n",
        "\n",
        "# Create an indexer\n",
        "indexer = StringIndexer(inputCol='platformType', outputCol='Platform_idx')\n",
        "\n",
        "# Indexer identifies categories in the data\n",
        "indexer_model = indexer.fit(combined_df)\n",
        "\n",
        "# Indexer creates a new column with numeric index values\n",
        "combined_indexed = indexer_model.transform(combined_df)\n",
        "\n",
        "# Add a spender column\n",
        "combined_indexed = combined_indexed.withColumn('label', when((col('avg_price') >= 6), 1).otherwise(0))\n",
        "\n",
        "combined_indexed.show()\n",
        "print(combined_indexed.count())"
      ],
      "metadata": {
        "colab": {
          "base_uri": "https://localhost:8080/"
        },
        "id": "1y7urCWRkcm7",
        "outputId": "0a515303-4ebb-4304-b83d-7d2e82a24c08"
      },
      "execution_count": null,
      "outputs": [
        {
          "output_type": "stream",
          "name": "stdout",
          "text": [
            "+------+-------------+---------+------------+----------------+----------+-----------+---------+------------+-----+\n",
            "|userId|userSessionId|teamLevel|platformType|count_gameclicks|count_hits|count_buyId|avg_price|Platform_idx|label|\n",
            "+------+-------------+---------+------------+----------------+----------+-----------+---------+------------+-----+\n",
            "|   937|         5652|        1|     android|              39|         0|          1|        1|         1.0|    0|\n",
            "|  1652|         5706|        1|     android|              46|         7|          1|        1|         1.0|    0|\n",
            "|  2306|         5783|        1|     android|              67|         5|          1|        1|         1.0|    0|\n",
            "|   649|         5811|        1|       linux|              51|         9|          1|        1|         3.0|    0|\n",
            "|  1821|         5914|        1|     windows|             178|        22|          1|        1|         2.0|    0|\n",
            "|   518|         5921|        1|       linux|             121|        16|          1|        1|         3.0|    0|\n",
            "|  2384|         5934|        1|     windows|              41|         5|          1|        1|         2.0|    0|\n",
            "|   564|         5940|        1|       linux|              34|         3|          1|        1|         3.0|    0|\n",
            "|    97|         5941|        1|     android|              74|        10|          1|        1|         1.0|    0|\n",
            "|  1457|         6230|        1|     windows|              54|         4|          1|        1|         2.0|    0|\n",
            "|   390|         7545|        2|       linux|              47|         7|          2|        1|         3.0|    0|\n",
            "|  1064|         7568|        2|     windows|              39|         2|          1|        1|         2.0|    0|\n",
            "|   243|         7691|        2|       linux|              62|         3|          1|        1|         3.0|    0|\n",
            "|   306|         7695|        2|     windows|             119|        10|          1|        1|         2.0|    0|\n",
            "|   564|         7734|        2|       linux|              21|         2|          1|        1|         3.0|    0|\n",
            "|  1516|         7747|        2|     windows|             139|        17|          1|        1|         2.0|    0|\n",
            "|  1856|         7758|        2|       linux|             112|        10|          1|        1|         3.0|    0|\n",
            "|  1264|         7759|        2|       linux|             103|        18|          1|        1|         3.0|    0|\n",
            "|   367|         7770|        2|     windows|              83|        12|          2|        1|         2.0|    0|\n",
            "|  1457|         7787|        2|     windows|              88|         7|          1|        1|         2.0|    0|\n",
            "+------+-------------+---------+------------+----------------+----------+-----------+---------+------------+-----+\n",
            "only showing top 20 rows\n",
            "\n",
            "1411\n"
          ]
        }
      ]
    },
    {
      "cell_type": "code",
      "source": [
        "from pyspark.ml.feature import VectorAssembler\n",
        "\n",
        "\n",
        "combined_indexed = combined_indexed.withColumn('teamLevel', col('teamLevel').cast('float'))\n",
        "combined_indexed = combined_indexed.withColumn('count_hits', col('count_hits').cast('float'))\n",
        "\n",
        "# Create an assembler object\n",
        "assembler = VectorAssembler(inputCols=[\n",
        "    'teamLevel', 'count_hits', 'Platform_idx'\n",
        "], outputCol='features')\n",
        "\n",
        "# Consolidate predictor columns\n",
        "combined_assembled = assembler.transform(combined_indexed)\n",
        "\n",
        "# Check the resulting column\n",
        "combined_assembled.select('features', 'label').show(5, truncate=False)"
      ],
      "metadata": {
        "colab": {
          "base_uri": "https://localhost:8080/"
        },
        "id": "iqTJu4So8dWv",
        "outputId": "95aef951-eb31-432d-e38d-5bad325b3155"
      },
      "execution_count": null,
      "outputs": [
        {
          "output_type": "stream",
          "name": "stdout",
          "text": [
            "+--------------+-----+\n",
            "|features      |label|\n",
            "+--------------+-----+\n",
            "|[1.0,0.0,1.0] |0    |\n",
            "|[1.0,7.0,1.0] |0    |\n",
            "|[1.0,5.0,1.0] |0    |\n",
            "|[1.0,9.0,3.0] |0    |\n",
            "|[1.0,22.0,2.0]|0    |\n",
            "+--------------+-----+\n",
            "only showing top 5 rows\n",
            "\n"
          ]
        }
      ]
    },
    {
      "cell_type": "code",
      "source": [
        "# Split into training and test sets in a 80:20 ratio\n",
        "combined_train, combined_test = combined_assembled.randomSplit([0.8, 0.2], seed=17)\n",
        "\n",
        "# Check that training set has around 80% of records\n",
        "training_ratio = combined_train.count() / combined_assembled.count()\n",
        "print(training_ratio)"
      ],
      "metadata": {
        "colab": {
          "base_uri": "https://localhost:8080/"
        },
        "id": "1okl_bCtAqio",
        "outputId": "0b9b1935-92ce-40f1-b7ef-42bdf3cd25c7"
      },
      "execution_count": null,
      "outputs": [
        {
          "output_type": "stream",
          "name": "stdout",
          "text": [
            "0.8015591778880227\n"
          ]
        }
      ]
    },
    {
      "cell_type": "code",
      "source": [
        "from pyspark.ml.classification import DecisionTreeClassifier\n",
        "\n",
        "# Create a classifier object and fit to the training data\n",
        "tree = DecisionTreeClassifier()\n",
        "tree_model = tree.fit(combined_train)\n",
        "\n",
        "# Create predictions for the testing data and take a look at the predictions\n",
        "prediction = tree_model.transform(combined_test)\n",
        "prediction.select('label', 'prediction', 'probability').show(5, False)"
      ],
      "metadata": {
        "colab": {
          "base_uri": "https://localhost:8080/"
        },
        "id": "zk-LDgaGBQc4",
        "outputId": "431f100f-ee43-42ee-a861-212ce328f28d"
      },
      "execution_count": null,
      "outputs": [
        {
          "output_type": "stream",
          "name": "stdout",
          "text": [
            "+-----+----------+----------------------------------------+\n",
            "|label|prediction|probability                             |\n",
            "+-----+----------+----------------------------------------+\n",
            "|0    |0.0       |[0.8690476190476191,0.13095238095238096]|\n",
            "|0    |0.0       |[0.957983193277311,0.04201680672268908] |\n",
            "|1    |1.0       |[0.18181818181818182,0.8181818181818182]|\n",
            "|0    |0.0       |[0.957983193277311,0.04201680672268908] |\n",
            "|0    |0.0       |[0.957983193277311,0.04201680672268908] |\n",
            "+-----+----------+----------------------------------------+\n",
            "only showing top 5 rows\n",
            "\n"
          ]
        }
      ]
    },
    {
      "cell_type": "code",
      "source": [
        "# Create a confusion matrix\n",
        "prediction.groupBy('label', 'prediction').count().show(),col\n",
        "\n",
        "# Calculate the elements of the confusion matrix\n",
        "TN = prediction.filter('prediction = 0 AND label = prediction').count()\n",
        "TP = prediction.filter('prediction = 1 AND label = prediction').count()\n",
        "FN = prediction.filter('prediction = 0 AND label = 1').count()\n",
        "FP = prediction.filter('prediction = 1 AND label = 0').count()\n",
        "\n",
        "# Accuracy measures the proportion of correct predictions\n",
        "accuracy = (TN + TP) / (TN + TP + FN + FP)\n",
        "print(accuracy)"
      ],
      "metadata": {
        "colab": {
          "base_uri": "https://localhost:8080/"
        },
        "id": "ZRfGkmCgC9_z",
        "outputId": "4cfddcaa-a2b8-4773-dc7e-4a438524fe74"
      },
      "execution_count": null,
      "outputs": [
        {
          "output_type": "stream",
          "name": "stdout",
          "text": [
            "+-----+----------+-----+\n",
            "|label|prediction|count|\n",
            "+-----+----------+-----+\n",
            "|    1|       0.0|   15|\n",
            "|    0|       0.0|  148|\n",
            "|    1|       1.0|  103|\n",
            "|    0|       1.0|   14|\n",
            "+-----+----------+-----+\n",
            "\n",
            "0.8964285714285715\n"
          ]
        }
      ]
    },
    {
      "cell_type": "markdown",
      "source": [
        "Clustering"
      ],
      "metadata": {
        "id": "2BBWMD3AFeZC"
      }
    },
    {
      "cell_type": "code",
      "source": [
        "from pyspark.sql.functions import isnan, count, when\n",
        "\n",
        "combined_data = spark.read.format(\"csv\").option(\"header\", \"true\").load(\"/content/sample_data/combined-data.csv\")\n",
        "\n",
        "# Define the input columns to be used as features\n",
        "num_cols = ['count_gameclicks', 'count_hits', 'avg_price']\n",
        "\n",
        "combined_data.select([count(when(isnan(c), c)).alias(c) for c in num_cols]).show()\n",
        "\n",
        "\n",
        "combined_data = combined_data.withColumn('count_gameclicks', col('count_gameclicks').cast('float'))\n",
        "combined_data = combined_data.withColumn('count_hits', col('count_hits').cast('float'))\n",
        "combined_data = combined_data.withColumn('avg_price', col('avg_price').cast('float'))\n"
      ],
      "metadata": {
        "colab": {
          "base_uri": "https://localhost:8080/"
        },
        "id": "aTVH1d-sX1y8",
        "outputId": "502594e2-925a-4192-9b79-0ed708cf5a95"
      },
      "execution_count": null,
      "outputs": [
        {
          "output_type": "stream",
          "name": "stdout",
          "text": [
            "+----------------+----------+---------+\n",
            "|count_gameclicks|count_hits|avg_price|\n",
            "+----------------+----------+---------+\n",
            "|               0|         0|        0|\n",
            "+----------------+----------+---------+\n",
            "\n"
          ]
        }
      ]
    },
    {
      "cell_type": "code",
      "source": [
        "from pyspark.ml.feature import VectorAssembler, StandardScaler\n",
        "from pyspark.ml.clustering import KMeans\n",
        "from pyspark.ml import Pipeline\n",
        "\n",
        "# set up each processing step with the correct input columns and output\n",
        "assemble=VectorAssembler(inputCols=num_cols, outputCol='features')\n",
        "scale=StandardScaler(inputCol='features',outputCol='standardized')\n",
        "km = KMeans(featuresCol = 'standardized')\n",
        "\n",
        "# assemble the pipeline \n",
        "pipe = Pipeline(stages=[assemble, scale, km])"
      ],
      "metadata": {
        "id": "35EOuGA0cVIN"
      },
      "execution_count": null,
      "outputs": []
    },
    {
      "cell_type": "code",
      "source": [
        "from pyspark.ml.evaluation import ClusteringEvaluator\n",
        "\n",
        "# set up evaluator \n",
        "evaluator = ClusteringEvaluator()\n",
        "\n",
        "# test between k=2 and 10 \n",
        "for k in range(2,10):\n",
        "  # set the KMeans stage of the pipe to hold each value of K and the random seed = 1 and fit that pipe to data  \n",
        "  kmeans = pipe.getStages()[-1].setK(k).setSeed(1)  \n",
        "  model = pipe.fit(combined_data)\n",
        "  \n",
        "  # build a preds dataset of each k value\n",
        "  preds = model.transform(combined_data)\n",
        "\n",
        "  # silhouette score each prediction set and print formatted output \n",
        "  silhouette = evaluator.evaluate(preds)\n",
        "  print(f'Tested: {k} clusters: {silhouette}')"
      ],
      "metadata": {
        "colab": {
          "base_uri": "https://localhost:8080/"
        },
        "id": "NkT6Wvfwcdwj",
        "outputId": "db46190e-339f-46d7-f82b-99bd30954a42"
      },
      "execution_count": null,
      "outputs": [
        {
          "output_type": "stream",
          "name": "stdout",
          "text": [
            "Tested: 2 clusters: 0.8791124447842833\n",
            "Tested: 3 clusters: 0.113445155235832\n",
            "Tested: 4 clusters: 0.1642552731620225\n",
            "Tested: 5 clusters: 0.20496743475303306\n",
            "Tested: 6 clusters: 0.11513601665627916\n",
            "Tested: 7 clusters: 0.14447690094634036\n",
            "Tested: 8 clusters: 0.09146370985833763\n",
            "Tested: 9 clusters: 0.05504250256365447\n"
          ]
        }
      ]
    },
    {
      "cell_type": "code",
      "source": [
        "pipe.getStages()[-1].setK(2).setSeed(1)  # set the random seed for the algorithm and the value for k\n",
        "\n",
        "# fit model and transform the data\n",
        "model = pipe.fit(combined_data)\n",
        "clusters = model.transform(combined_data)\n",
        "clusters.show()\n",
        "\n",
        "centers = model.stages[-1].clusterCenters()\n",
        "print(centers)\n"
      ],
      "metadata": {
        "colab": {
          "base_uri": "https://localhost:8080/"
        },
        "id": "pKcD6wH-dRYV",
        "outputId": "62a98664-f0fb-436f-8b95-f965f910dc6c"
      },
      "execution_count": null,
      "outputs": [
        {
          "output_type": "stream",
          "name": "stdout",
          "text": [
            "+------+-------------+---------+------------+----------------+----------+-----------+---------+----------------+--------------------+----------+\n",
            "|userId|userSessionId|teamLevel|platformType|count_gameclicks|count_hits|count_buyId|avg_price|        features|        standardized|prediction|\n",
            "+------+-------------+---------+------------+----------------+----------+-----------+---------+----------------+--------------------+----------+\n",
            "|   937|         5652|        1|     android|            39.0|       0.0|          1|      1.0|  [39.0,0.0,1.0]|[0.32564337906060...|         0|\n",
            "|  1652|         5706|        1|     android|            46.0|       7.0|          1|      1.0|  [46.0,7.0,1.0]|[0.38409219068686...|         0|\n",
            "|  2306|         5783|        1|     android|            67.0|       5.0|          1|      1.0|  [67.0,5.0,1.0]|[0.55943862556564...|         0|\n",
            "|   649|         5811|        1|       linux|            51.0|       9.0|          1|      1.0|  [51.0,9.0,1.0]|[0.42584134184847...|         0|\n",
            "|  1821|         5914|        1|     windows|           178.0|      22.0|          1|      1.0|[178.0,22.0,1.0]|[1.48626978135351...|         0|\n",
            "|   518|         5921|        1|       linux|           121.0|      16.0|          1|      1.0|[121.0,16.0,1.0]|[1.01032945811109...|         0|\n",
            "|  2384|         5934|        1|     windows|            41.0|       5.0|          1|      1.0|  [41.0,5.0,1.0]|[0.34234303952524...|         0|\n",
            "|   564|         5940|        1|       linux|            34.0|       3.0|          1|      1.0|  [34.0,3.0,1.0]|[0.28389422789898...|         0|\n",
            "|    97|         5941|        1|     android|            74.0|      10.0|          1|      1.0| [74.0,10.0,1.0]|[0.61788743719191...|         0|\n",
            "|  1457|         6230|        1|     windows|            54.0|       4.0|          1|      1.0|  [54.0,4.0,1.0]|[0.45089083254544...|         0|\n",
            "|   390|         7545|        2|       linux|            47.0|       7.0|          2|      1.0|  [47.0,7.0,1.0]|[0.39244202091918...|         0|\n",
            "|  1064|         7568|        2|     windows|            39.0|       2.0|          1|      1.0|  [39.0,2.0,1.0]|[0.32564337906060...|         0|\n",
            "|   243|         7691|        2|       linux|            62.0|       3.0|          1|      1.0|  [62.0,3.0,1.0]|[0.51768947440403...|         0|\n",
            "|   306|         7695|        2|     windows|           119.0|      10.0|          1|      1.0|[119.0,10.0,1.0]|[0.99362979764645...|         0|\n",
            "|   564|         7734|        2|       linux|            21.0|       2.0|          1|      1.0|  [21.0,2.0,1.0]|[0.17534643487878...|         0|\n",
            "|  1516|         7747|        2|     windows|           139.0|      17.0|          1|      1.0|[139.0,17.0,1.0]|[1.16062640229291...|         0|\n",
            "|  1856|         7758|        2|       linux|           112.0|      10.0|          1|      1.0|[112.0,10.0,1.0]|[0.93518098602018...|         0|\n",
            "|  1264|         7759|        2|       linux|           103.0|      18.0|          1|      1.0|[103.0,18.0,1.0]|[0.86003251392928...|         0|\n",
            "|   367|         7770|        2|     windows|            83.0|      12.0|          2|      1.0| [83.0,12.0,1.0]|[0.69303590928281...|         0|\n",
            "|  1457|         7787|        2|     windows|            88.0|       7.0|          1|      1.0|  [88.0,7.0,1.0]|[0.73478506044443...|         0|\n",
            "+------+-------------+---------+------------+----------------+----------+-----------+---------+----------------+--------------------+----------+\n",
            "only showing top 20 rows\n",
            "\n",
            "[array([0.89347277, 0.92287132, 1.12665081]), array([3.30206762, 3.28047346, 0.95346105])]\n"
          ]
        }
      ]
    },
    {
      "cell_type": "code",
      "source": [
        "from pyspark.ml.evaluation import ClusteringEvaluator\n",
        "import matplotlib.pyplot as plt\n",
        "\n",
        "# set up evaluator \n",
        "evaluator = ClusteringEvaluator()\n",
        "\n",
        "# test between k=2 and 10 \n",
        "k_list = range(2, 11)\n",
        "silhouette_scores = []\n",
        "for k in k_list:\n",
        "  # set the KMeans stage of the pipe to hold each value of K \n",
        "  kmeans = pipe.getStages()[-1].setK(k).setSeed(1)  \n",
        "  model = pipe.fit(combined_data)\n",
        "  \n",
        "  preds = model.transform(combined_data)\n",
        "\n",
        "  # silhouette score each prediction set and append to scores list\n",
        "  silhouette = evaluator.evaluate(preds)\n",
        "  silhouette_scores.append(silhouette)\n",
        "\n",
        "# plot the silhouette scores\n",
        "plt.plot(k_list, silhouette_scores, 'bx-')\n",
        "plt.xlabel('Number of Clusters (k)')\n",
        "plt.ylabel('Silhouette Score')\n",
        "plt.title('Silhouette Scores for Different Numbers of Clusters')\n",
        "plt.show()\n"
      ],
      "metadata": {
        "colab": {
          "base_uri": "https://localhost:8080/",
          "height": 472
        },
        "id": "BYjrWLVY7q3s",
        "outputId": "786456ee-3d20-486e-d18e-ccabce4a310d"
      },
      "execution_count": null,
      "outputs": [
        {
          "output_type": "display_data",
          "data": {
            "text/plain": [
              "<Figure size 640x480 with 1 Axes>"
            ],
            "image/png": "[encoded data removed]"
          },
          "metadata": {}
        }
      ]
    }
  ]
}